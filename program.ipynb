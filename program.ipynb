{
 "cells": [
  {
   "cell_type": "markdown",
   "metadata": {},
   "source": [
    "Import all the required modules."
   ]
  },
  {
   "cell_type": "code",
   "execution_count": 1,
   "metadata": {},
   "outputs": [],
   "source": [
    "import numpy as np\n",
    "import pandas as pd\n",
    "import matplotlib.pyplot as plt\n",
    "from sklearn import metrics\n",
    "from sklearn.preprocessing import PolynomialFeatures\n",
    "from sklearn.model_selection import train_test_split\n",
    "from sklearn.linear_model import LinearRegression\n",
    "import datetime"
   ]
  },
  {
   "cell_type": "code",
   "execution_count": 2,
   "metadata": {},
   "outputs": [],
   "source": [
    "plt.style.use('seaborn')"
   ]
  },
  {
   "cell_type": "markdown",
   "metadata": {},
   "source": [
    "Using read_csv from pandas, read the dataset of confirmed cases and deaths."
   ]
  },
  {
   "cell_type": "code",
   "execution_count": 3,
   "metadata": {},
   "outputs": [],
   "source": [
    "df_conf=pd.read_csv(\"C:/Users/Administrator.DESKTOP-C9E863I/Desktop/Dataset/Confirmed.csv\")\n",
    "df_death=pd.read_csv(\"C:/Users/Administrator.DESKTOP-C9E863I/Desktop/Dataset/Deaths.csv\")"
   ]
  },
  {
   "cell_type": "code",
   "execution_count": 4,
   "metadata": {},
   "outputs": [
    {
     "name": "stdout",
     "output_type": "stream",
     "text": [
      "  Province/State Country/Region       Lat       Long  1/22/20  1/23/20  \\\n",
      "0            NaN    Afghanistan  33.93911  67.709953        0        0   \n",
      "1            NaN        Albania  41.15330  20.168300        0        0   \n",
      "2            NaN        Algeria  28.03390   1.659600        0        0   \n",
      "3            NaN        Andorra  42.50630   1.521800        0        0   \n",
      "4            NaN         Angola -11.20270  17.873900        0        0   \n",
      "\n",
      "   1/24/20  1/25/20  1/26/20  1/27/20   ...     8/3/20  8/4/20  8/5/20  \\\n",
      "0        0        0        0        0   ...      36747   36782   36829   \n",
      "1        0        0        0        0   ...       5620    5750    5889   \n",
      "2        0        0        0        0   ...      31972   32504   33055   \n",
      "3        0        0        0        0   ...        937     939     939   \n",
      "4        0        0        0        0   ...       1280    1344    1395   \n",
      "\n",
      "   8/6/20  8/7/20  8/8/20  8/9/20  8/10/20  8/11/20  8/12/20  \n",
      "0   36896   37015   37054   37054    37162    37269    37345  \n",
      "1    6016    6151    6275    6411     6536     6676     6817  \n",
      "2   33626   34155   34693   35160    35712    36204    36699  \n",
      "3     944     955     955     955      963      963      977  \n",
      "4    1483    1538    1572    1672     1679     1735     1762  \n",
      "\n",
      "[5 rows x 208 columns]\n"
     ]
    }
   ],
   "source": [
    "print(df_conf.head())"
   ]
  },
  {
   "cell_type": "markdown",
   "metadata": {},
   "source": [
    "Convert dates into Integer"
   ]
  },
  {
   "cell_type": "code",
   "execution_count": 5,
   "metadata": {},
   "outputs": [],
   "source": [
    "days=[]\n",
    "for i in range(len(df_conf.iloc[:,4:].keys())):\n",
    "    days+=[i]"
   ]
  },
  {
   "cell_type": "markdown",
   "metadata": {},
   "source": [
    "Create an array of integer containing future dates."
   ]
  },
  {
   "cell_type": "code",
   "execution_count": 6,
   "metadata": {},
   "outputs": [],
   "source": [
    "future=[]\n",
    "for i in range(len(df_conf.iloc[:,4:].keys())+21):\n",
    "    future+=[i]"
   ]
  },
  {
   "cell_type": "markdown",
   "metadata": {},
   "source": [
    "Compute the total confirmed cases and deaths on each day given in dataset."
   ]
  },
  {
   "cell_type": "code",
   "execution_count": 7,
   "metadata": {},
   "outputs": [],
   "source": [
    "conf=[]\n",
    "death=[]\n",
    "\n",
    "for i in df_conf.iloc[:,4:].keys():\n",
    "    Conf=df_conf[i].sum()\n",
    "    Death=df_death[i].sum()\n",
    "\n",
    "    conf+=[Conf]\n",
    "    death+=[Death]"
   ]
  },
  {
   "cell_type": "code",
   "execution_count": 8,
   "metadata": {},
   "outputs": [],
   "source": [
    "future=np.array(future).reshape(-1,1)\n",
    "days=np.array(days).reshape(-1,1)\n",
    "\n",
    "death=np.array(death).reshape(-1,1)\n",
    "conf=np.array(conf).reshape(-1,1)\n"
   ]
  },
  {
   "cell_type": "markdown",
   "metadata": {},
   "source": [
    "Split the data of confirmed cases into training set and test set."
   ]
  },
  {
   "cell_type": "code",
   "execution_count": 9,
   "metadata": {},
   "outputs": [],
   "source": [
    "x_train,x_test,y_train,y_test=train_test_split(days,conf,test_size=0.15,random_state=3,shuffle=False)"
   ]
  },
  {
   "cell_type": "code",
   "execution_count": 10,
   "metadata": {},
   "outputs": [],
   "source": [
    "p=PolynomialFeatures(degree=4)\n",
    "x_train=p.fit_transform(x_train)\n",
    "x_test=p.fit_transform(x_test)\n",
    "future1=p.fit_transform(future)"
   ]
  },
  {
   "cell_type": "code",
   "execution_count": 11,
   "metadata": {},
   "outputs": [],
   "source": [
    "lr_conf=LinearRegression(normalize=True)\n",
    "lr_conf.fit(x_train, y_train)\n",
    "pred=lr_conf.predict(x_test)\n",
    "fut_pred=lr_conf.predict(future1)"
   ]
  },
  {
   "cell_type": "code",
   "execution_count": 12,
   "metadata": {},
   "outputs": [
    {
     "name": "stdout",
     "output_type": "stream",
     "text": [
      "Mean Absolute Error -> 562862.1568981368\n"
     ]
    }
   ],
   "source": [
    "print('Mean Absolute Error ->', metrics.mean_absolute_error(pred, y_test))"
   ]
  },
  {
   "cell_type": "markdown",
   "metadata": {},
   "source": [
    "Compute the Integers back to dates"
   ]
  },
  {
   "cell_type": "code",
   "execution_count": 13,
   "metadata": {},
   "outputs": [],
   "source": [
    "date=\"1/22/20\"\n",
    "future_date=[]\n",
    "date_s=datetime.datetime.strptime(date,\"%m/%d/%y\")\n",
    "for i in range(len(df_conf.iloc[:,4:].keys())+21):\n",
    "    future_date+=[(date_s+datetime.timedelta(days=i)).strftime(\"%m/%d/%y\")]"
   ]
  },
  {
   "cell_type": "code",
   "execution_count": 14,
   "metadata": {},
   "outputs": [
    {
     "name": "stdout",
     "output_type": "stream",
     "text": [
      "[[ 0.00000000e+00 -3.83601587e+04  9.07940909e+02 -3.51212906e+00\n",
      "   1.14388213e-02]]\n"
     ]
    }
   ],
   "source": [
    "print(lr_conf.coef_)"
   ]
  },
  {
   "cell_type": "markdown",
   "metadata": {},
   "source": [
    "Plot the graph to see the differnce between performance of your model and the given dataset."
   ]
  },
  {
   "cell_type": "code",
   "execution_count": 15,
   "metadata": {},
   "outputs": [
    {
     "data": {
      "image/png": "[encoded data removed]",
      "text/plain": [
       "<Figure size 576x396 with 1 Axes>"
      ]
     },
     "metadata": {},
     "output_type": "display_data"
    }
   ],
   "source": [
    "plt.figure()\n",
    "plt.plot(days,conf)\n",
    "plt.plot(future_date,fut_pred,linestyle=\"dashdot\",color=\"red\")\n",
    "plt.title(\"Model performance\",size=15)\n",
    "plt.ylabel(\"Number of cases\",size=15)\n",
    "plt.xlabel(\"Days starting from 22-jan-2020\",size=15)\n",
    "plt.legend([\"Cases over time\",\"Model prediction\"],loc=\"lower right\")\n",
    "plt.show()"
   ]
  },
  {
   "cell_type": "code",
   "execution_count": 16,
   "metadata": {},
   "outputs": [],
   "source": [
    "fut_pred=fut_pred.ravel()"
   ]
  },
  {
   "cell_type": "markdown",
   "metadata": {},
   "source": [
    "Print the future dates with total predicted cases till date."
   ]
  },
  {
   "cell_type": "code",
   "execution_count": 17,
   "metadata": {},
   "outputs": [
    {
     "name": "stdout",
     "output_type": "stream",
     "text": [
      "Date      Cases\n",
      "08/13/20 20255468.384972565\n",
      "08/14/20 20539133.40641168\n",
      "08/15/20 20826063.011403605\n",
      "08/16/20 21116292.543440823\n",
      "08/17/20 21409857.620547514\n",
      "08/18/20 21706794.135279596\n",
      "08/19/20 22007138.254724666\n",
      "08/20/20 22310926.42050206\n",
      "08/21/20 22618195.3487628\n",
      "08/22/20 22928982.03018966\n",
      "08/23/20 23243323.729997084\n",
      "08/24/20 23561257.987931248\n",
      "08/25/20 23882822.61827004\n",
      "08/26/20 24208055.709823046\n",
      "08/27/20 24536995.625931602\n",
      "08/28/20 24869681.00446871\n",
      "08/29/20 25206150.757839113\n",
      "08/30/20 25546444.072979257\n",
      "08/31/20 25890600.411357284\n",
      "09/01/20 26238659.508973084\n",
      "09/02/20 26590661.376358233\n"
     ]
    }
   ],
   "source": [
    "print(\"Date\",\"     Cases\")\n",
    "for x,y in zip(future_date[-21:],fut_pred[-21:]):\n",
    "    print(x,y)"
   ]
  },
  {
   "cell_type": "markdown",
   "metadata": {},
   "source": [
    "Now lets predict the deaths in future due to covid-19.\n",
    "Split the death dataset into training and test data."
   ]
  },
  {
   "cell_type": "code",
   "execution_count": 18,
   "metadata": {},
   "outputs": [],
   "source": [
    "X_train,X_test,Y_train,Y_test=train_test_split(days,death,test_size=0.15,random_state=42,shuffle=False)"
   ]
  },
  {
   "cell_type": "code",
   "execution_count": 19,
   "metadata": {},
   "outputs": [],
   "source": [
    "p1=PolynomialFeatures(degree=2)\n",
    "X_train=p1.fit_transform(X_train)\n",
    "X_test=p1.fit_transform(X_test)\n",
    "future2=p1.fit_transform(future)"
   ]
  },
  {
   "cell_type": "code",
   "execution_count": 20,
   "metadata": {},
   "outputs": [],
   "source": [
    "lr_death=LinearRegression(normalize=True)\n",
    "lr_death.fit(X_train,Y_train)\n",
    "pred_death=lr_death.predict(X_test)\n",
    "fut_death=lr_death.predict(future2)"
   ]
  },
  {
   "cell_type": "code",
   "execution_count": 21,
   "metadata": {},
   "outputs": [
    {
     "name": "stdout",
     "output_type": "stream",
     "text": [
      "Mean Absolute Error -> 73441.47325570366\n"
     ]
    }
   ],
   "source": [
    "print('Mean Absolute Error ->', metrics.mean_absolute_error(pred_death, Y_test))"
   ]
  },
  {
   "cell_type": "markdown",
   "metadata": {},
   "source": [
    "Plot the graph to see the performance of your model."
   ]
  },
  {
   "cell_type": "code",
   "execution_count": 22,
   "metadata": {},
   "outputs": [
    {
     "data": {
      "image/png": "[encoded data removed]",
      "text/plain": [
       "<Figure size 576x396 with 1 Axes>"
      ]
     },
     "metadata": {},
     "output_type": "display_data"
    }
   ],
   "source": [
    "plt.figure()\n",
    "plt.plot(days,death)\n",
    "plt.plot(future_date,fut_death,linestyle=\"dashdot\",color=\"red\")\n",
    "plt.title('\"Model Performance\"',size=15)\n",
    "plt.xlabel('Days Starting from 22 Jan',size=15)\n",
    "plt.ylabel('Number of deaths',size=15)\n",
    "plt.legend(['Deaths over time','Models predictions'])\n",
    "plt.show()"
   ]
  },
  {
   "cell_type": "code",
   "execution_count": 23,
   "metadata": {},
   "outputs": [],
   "source": [
    "fut_death=fut_death.ravel()"
   ]
  },
  {
   "cell_type": "markdown",
   "metadata": {},
   "source": [
    "Print future dates with total predicted deaths till date."
   ]
  },
  {
   "cell_type": "code",
   "execution_count": 24,
   "metadata": {},
   "outputs": [
    {
     "name": "stdout",
     "output_type": "stream",
     "text": [
      "Date      Deaths\n",
      "08/13/20 860893.9476852318\n",
      "08/14/20 869207.4027701515\n",
      "08/15/20 877559.3805850573\n",
      "08/16/20 885949.8811299496\n",
      "08/17/20 894378.9044048279\n",
      "08/18/20 902846.4504096924\n",
      "08/19/20 911352.5191445433\n",
      "08/20/20 919897.1106093803\n",
      "08/21/20 928480.2248042034\n",
      "08/22/20 937101.8617290129\n",
      "08/23/20 945762.0213838086\n",
      "08/24/20 954460.7037685903\n",
      "08/25/20 963197.9088833586\n",
      "08/26/20 971973.6367281128\n",
      "08/27/20 980787.8873028533\n",
      "08/28/20 989640.6606075801\n",
      "08/29/20 998531.956642293\n",
      "08/30/20 1007461.7754069922\n",
      "08/31/20 1016430.1169016777\n",
      "09/01/20 1025436.9811263493\n",
      "09/02/20 1034482.368081007\n"
     ]
    }
   ],
   "source": [
    "print(\"Date\",\"     Deaths\")\n",
    "for x,y in zip(future_date[-21:],fut_death[-21:]):\n",
    "    print(x,y)"
   ]
  }
 ],
 "metadata": {
  "kernelspec": {
   "display_name": "Python 3",
   "language": "python",
   "name": "python3"
  },
  "language_info": {
   "codemirror_mode": {
    "name": "ipython",
    "version": 3
   },
   "file_extension": ".py",
   "mimetype": "text/x-python",
   "name": "python",
   "nbconvert_exporter": "python",
   "pygments_lexer": "ipython3",
   "version": "3.6.5"
  }
 },
 "nbformat": 4,
 "nbformat_minor": 2
}
